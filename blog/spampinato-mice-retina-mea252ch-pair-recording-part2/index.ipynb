{
 "cells": [
  {
   "cell_type": "markdown",
   "metadata": {},
   "source": [
    "# Sorter comparison with ground truth recordings\n",
    "\n",
    "\n",
    "@author : Samuel Garcia\n",
    "\n",
    "\n",
    "Giulia  Spampinato from Institut de la Vision, Paris, have publish data from mice retina recorded invitro with from dense array.\n",
    "The data contain one ground truth to benchmark spike sorting tools. The ground truth is recorded with juxta celullar pipet.\n",
    "\n",
    "Here the official publication of this open dataset:\n",
    "https://zenodo.org/record/1205233#.W9mq1HWLTIF\n",
    "\n",
    "\n",
    "This datasets was used by Pierre Yger publish spyking circus:\n",
    "https://elifesciences.org/articles/34518\n",
    "\n",
    "\n",
    "In the original dataset, 19 files are provided.\n",
    "here we volontary keep only 9 files.\n",
    "See carrefully the notebook : **spampinato-mice-retina-mea252ch-pair-recording-part1**\n",
    "\n",
    "\n",
    "\n"
   ]
  },
  {
   "cell_type": "markdown",
   "metadata": {},
   "source": [
    "## How to reproduce this notebook\n",
    "\n",
    "\n",
    "  1. to create a folder **basedir** somwhere.\n",
    "  2. download all files in zenodo link\n",
    "  3. put them all in a subfolder **basedir/original_files** (20160415_patch2.tar.gz, ...)\n",
    "  4. and then execute cells by cell this notebook\n",
    "  "
   ]
  },
  {
   "cell_type": "code",
   "execution_count": 1,
   "metadata": {},
   "outputs": [],
   "source": [
    "# import everything\n",
    "import os, getpass\n",
    "\n",
    "kilosort2_path = '/home/samuel/Documents/Spikeinterface/Kilosort2'\n",
    "os.environ[\"KILOSORT2_PATH\"] = kilosort2_path\n",
    "\n",
    "kilosort_path = '/home/samuel/Documents/Spikeinterface/KiloSort/'\n",
    "os.environ[\"KILOSORT_PATH\"] = kilosort_path\n",
    "\n",
    "ironclust_path = '/home/samuel/Documents/Spikeinterface/ironclust'\n",
    "os.environ[\"IRONCLUST_PATH\"] = ironclust_path\n",
    "\n",
    "import re\n",
    "\n",
    "import numpy as np\n",
    "import pandas as pd\n",
    "import matplotlib.pyplot as plt\n",
    "import seaborn as sns\n",
    "from pathlib import Path\n",
    "\n",
    "\n",
    "import spikeinterface as si\n",
    "import spikeinterface.extractors as se\n",
    "import spikeinterface.sorters as ss\n",
    "import spikeinterface.widgets as sw\n",
    "\n",
    "from spikeinterface.comparison import GroundTruthStudy"
   ]
  },
  {
   "cell_type": "code",
   "execution_count": 2,
   "metadata": {},
   "outputs": [],
   "source": [
    "# my working path\n",
    "basedir = '/media/samuel/dataspikesorting/DataSpikeSortingHD2/Pierre/zenodo/'\n",
    "\n",
    "# input file\n",
    "recording_folder = basedir + 'original_files/'\n",
    "\n",
    "# ground truth information\n",
    "ground_truth_folder = basedir + 'ground_truth/'\n",
    "\n",
    "# where output will be\n",
    "study_folder = basedir + 'study_gt252/'\n",
    "\n",
    "# sorter list\n",
    "sorter_list = ['tridesclous']\n",
    "\n",
    "# selected recordings (8/19)\n",
    "rec_names = [\n",
    "    '20160415_patch2',\n",
    "    '20170803_patch1',\n",
    "    '20160426_patch3', \n",
    "    '20170725_patch1',\n",
    "    '20170621_patch1',\n",
    "    '20160426_patch2', \n",
    "    '20170728_patch2',\n",
    "    '20170713_patch1',\n",
    "]\n"
   ]
  },
  {
   "cell_type": "markdown",
   "metadata": {},
   "source": [
    "## Step 1 : clean original dataset"
   ]
  },
  {
   "cell_type": "code",
   "execution_count": null,
   "metadata": {},
   "outputs": [],
   "source": []
  },
  {
   "cell_type": "markdown",
   "metadata": {},
   "source": [
    "## Setup study\n",
    "\n",
    "In this step:\n",
    "  * we create a dict of (recordings+sorting)\n",
    "  * and call the function ```setup_comparison_study(study_folder, gt_dict)```\n",
    "\n",
    "Internanly spiketoolkit copy all recordings and ground truth sorting into a n organised folder.\n",
    "\n",
    "\n",
    "Important note :\n",
    "  * the file have 256 channels but only 252 are usefull.\n",
    "    The PRB file contain all channels needed so we need to explicit **grouping_property='group'**\n",
    "    to be sure to only take in account the channel in the unique group.\n",
    "  * This step have to run only once and take some times because of copy."
   ]
  },
  {
   "cell_type": "code",
   "execution_count": 4,
   "metadata": {},
   "outputs": [
    {
     "name": "stderr",
     "output_type": "stream",
     "text": [
      "<>:13: DeprecationWarning: invalid escape sequence \\d\n",
      "<>:13: DeprecationWarning: invalid escape sequence \\d\n",
      "<>:13: DeprecationWarning: invalid escape sequence \\d\n",
      "<ipython-input-4-00779a2fb746>:13: DeprecationWarning: invalid escape sequence \\d\n",
      "  offset = int(re.findall('padding = (\\d+)', f.read())[0])\n"
     ]
    }
   ],
   "source": [
    "gt_dict = {}\n",
    "for rec_name in rec_names:\n",
    "\n",
    "    # find raw file\n",
    "    dirname = recording_folder + rec_name + '/'\n",
    "    for f in os.listdir(dirname):\n",
    "        if f.endswith('.raw') and not f.endswith('juxta.raw'):\n",
    "            mea_filename = dirname + f\n",
    "\n",
    "    # raw files have an internal offset that depend on the channel count\n",
    "    # a simple built header can be parsed to get it\n",
    "    with open(mea_filename.replace('.raw', '.txt'), mode='r') as f:\n",
    "        offset = int(re.findall(r'padding = (\\d+)', f.read())[0])\n",
    "\n",
    "    # recording\n",
    "    rec = se.BinDatRecordingExtractor(mea_filename, 20000., 256, 'uint16', offset=offset, time_axis=0)\n",
    "\n",
    "    # this reduce channel count to 252\n",
    "    rec = se.load_probe_file(rec, basedir + 'mea_256.prb')\n",
    "\n",
    "    # gt sorting\n",
    "    gt_indexes = np.fromfile(ground_truth_folder + rec_name + '/juxta_peak_indexes.raw', dtype='int64')\n",
    "    sorting_gt = se.NumpySortingExtractor()\n",
    "    sorting_gt.set_times_labels(gt_indexes, np.zeros(gt_indexes.size, dtype='int64'))\n",
    "    sorting_gt.set_sampling_frequency(20000.0)\n",
    "\n",
    "    gt_dict[rec_name] = (rec, sorting_gt)\n",
    "\n",
    "\n",
    "study = GroundTruthStudy.create(study_folder, gt_dict)"
   ]
  },
  {
   "cell_type": "markdown",
   "metadata": {},
   "source": [
    "## Get signal to noise ratio for all units"
   ]
  },
  {
   "cell_type": "code",
   "execution_count": 3,
   "metadata": {},
   "outputs": [
    {
     "data": {
      "text/html": [
       "<div>\n",
       "<style scoped>\n",
       "    .dataframe tbody tr th:only-of-type {\n",
       "        vertical-align: middle;\n",
       "    }\n",
       "\n",
       "    .dataframe tbody tr th {\n",
       "        vertical-align: top;\n",
       "    }\n",
       "\n",
       "    .dataframe thead th {\n",
       "        text-align: right;\n",
       "    }\n",
       "</style>\n",
       "<table border=\"1\" class=\"dataframe\">\n",
       "  <thead>\n",
       "    <tr style=\"text-align: right;\">\n",
       "      <th></th>\n",
       "      <th></th>\n",
       "      <th>snr</th>\n",
       "    </tr>\n",
       "    <tr>\n",
       "      <th>rec_name</th>\n",
       "      <th>gt_unit_id</th>\n",
       "      <th></th>\n",
       "    </tr>\n",
       "  </thead>\n",
       "  <tbody>\n",
       "    <tr>\n",
       "      <th>20160415_patch2</th>\n",
       "      <th>0</th>\n",
       "      <td>7.647741</td>\n",
       "    </tr>\n",
       "    <tr>\n",
       "      <th>20170803_patch1</th>\n",
       "      <th>0</th>\n",
       "      <td>13.230232</td>\n",
       "    </tr>\n",
       "    <tr>\n",
       "      <th>20160426_patch3</th>\n",
       "      <th>0</th>\n",
       "      <td>7.270211</td>\n",
       "    </tr>\n",
       "    <tr>\n",
       "      <th>20170725_patch1</th>\n",
       "      <th>0</th>\n",
       "      <td>28.532387</td>\n",
       "    </tr>\n",
       "    <tr>\n",
       "      <th>20170621_patch1</th>\n",
       "      <th>0</th>\n",
       "      <td>15.133425</td>\n",
       "    </tr>\n",
       "    <tr>\n",
       "      <th>20160426_patch2</th>\n",
       "      <th>0</th>\n",
       "      <td>4.661795</td>\n",
       "    </tr>\n",
       "    <tr>\n",
       "      <th>20170728_patch2</th>\n",
       "      <th>0</th>\n",
       "      <td>23.652615</td>\n",
       "    </tr>\n",
       "    <tr>\n",
       "      <th>20170713_patch1</th>\n",
       "      <th>0</th>\n",
       "      <td>14.934497</td>\n",
       "    </tr>\n",
       "  </tbody>\n",
       "</table>\n",
       "</div>"
      ],
      "text/plain": [
       "                                  snr\n",
       "rec_name        gt_unit_id           \n",
       "20160415_patch2 0            7.647741\n",
       "20170803_patch1 0           13.230232\n",
       "20160426_patch3 0            7.270211\n",
       "20170725_patch1 0           28.532387\n",
       "20170621_patch1 0           15.133425\n",
       "20160426_patch2 0            4.661795\n",
       "20170728_patch2 0           23.652615\n",
       "20170713_patch1 0           14.934497"
      ]
     },
     "execution_count": 3,
     "metadata": {},
     "output_type": "execute_result"
    }
   ],
   "source": [
    "study = GroundTruthStudy(study_folder)\n",
    "snr = study.concat_all_snr()\n",
    "snr"
   ]
  },
  {
   "cell_type": "code",
   "execution_count": 4,
   "metadata": {},
   "outputs": [
    {
     "data": {
      "text/plain": [
       "Text(0.5, 0, 'GT units SNR')"
      ]
     },
     "execution_count": 4,
     "metadata": {},
     "output_type": "execute_result"
    },
    {
     "data": {
      "image/png": "[encoded data removed]",
      "text/plain": [
       "<Figure size 432x288 with 1 Axes>"
      ]
     },
     "metadata": {
      "needs_background": "light"
     },
     "output_type": "display_data"
    }
   ],
   "source": [
    "fig, ax = plt.subplots()\n",
    "ax.hist(snr['snr'].values, bins=np.arange(0, 40, 5))\n",
    "ax.set_xlabel('GT units SNR')"
   ]
  },
  {
   "cell_type": "markdown",
   "metadata": {},
   "source": [
    "## Run all sorters"
   ]
  },
  {
   "cell_type": "code",
   "execution_count": 5,
   "metadata": {},
   "outputs": [],
   "source": [
    "sorter_list = ['herdingspikes', 'ironclust', 'kilosort2',  'kilosort',\n",
    "                'spykingcircus', 'tridesclous']"
   ]
  },
  {
   "cell_type": "code",
   "execution_count": null,
   "metadata": {},
   "outputs": [
    {
     "name": "stdout",
     "output_type": "stream",
     "text": [
      "WARNING! The recording contains group. In order to spike sort by 'group' use grouping_property='group' as argument.\n",
      "# Generating new position and neighbor files from data file\n",
      "# Not Masking any Channels\n",
      "# Sampling rate: 20000\n",
      "# Localization On\n",
      "# Number of recorded channels: 252\n",
      "# Analysing frames: 6000000; Seconds: 300.0\n",
      "# Frames before spike in cutout: 4\n",
      "# Frames after spike in cutout: 20\n",
      "# tcuts: 32 48\n",
      "# tInc: 100000\n",
      "# Analysing frames from -32 to 100048  (0.0%)\n",
      "# Analysing frames from 99968 to 200048  (1.7%)\n",
      "# Analysing frames from 199968 to 300048  (3.3%)\n",
      "# Analysing frames from 299968 to 400048  (5.0%)\n",
      "# Analysing frames from 399968 to 500048  (6.7%)\n",
      "# Analysing frames from 499968 to 600048  (8.3%)\n",
      "# Analysing frames from 599968 to 700048  (10.0%)\n",
      "# Analysing frames from 699968 to 800048  (11.7%)\n",
      "# Analysing frames from 799968 to 900048  (13.3%)\n",
      "# Analysing frames from 899968 to 1000048  (15.0%)\n",
      "# Analysing frames from 999968 to 1100048  (16.7%)\n",
      "# Analysing frames from 1099968 to 1200048  (18.3%)\n",
      "# Analysing frames from 1199968 to 1300048  (20.0%)\n",
      "# Analysing frames from 1299968 to 1400048  (21.7%)\n",
      "# Analysing frames from 1399968 to 1500048  (23.3%)\n",
      "# Analysing frames from 1499968 to 1600048  (25.0%)\n",
      "# Analysing frames from 1599968 to 1700048  (26.7%)\n",
      "# Analysing frames from 1699968 to 1800048  (28.3%)\n",
      "# Analysing frames from 1799968 to 1900048  (30.0%)\n",
      "# Analysing frames from 1899968 to 2000048  (31.7%)\n",
      "# Analysing frames from 1999968 to 2100048  (33.3%)\n",
      "# Analysing frames from 2099968 to 2200048  (35.0%)\n",
      "# Analysing frames from 2199968 to 2300048  (36.7%)\n",
      "# Analysing frames from 2299968 to 2400048  (38.3%)\n",
      "# Analysing frames from 2399968 to 2500048  (40.0%)\n",
      "# Analysing frames from 2499968 to 2600048  (41.7%)\n",
      "# Analysing frames from 2599968 to 2700048  (43.3%)\n",
      "# Analysing frames from 2699968 to 2800048  (45.0%)\n",
      "# Analysing frames from 2799968 to 2900048  (46.7%)\n",
      "# Analysing frames from 2899968 to 3000048  (48.3%)\n",
      "# Analysing frames from 2999968 to 3100048  (50.0%)\n",
      "# Analysing frames from 3099968 to 3200048  (51.7%)\n",
      "# Analysing frames from 3199968 to 3300048  (53.3%)\n",
      "# Analysing frames from 3299968 to 3400048  (55.0%)\n",
      "# Analysing frames from 3399968 to 3500048  (56.7%)\n",
      "# Analysing frames from 3499968 to 3600048  (58.3%)\n",
      "# Analysing frames from 3599968 to 3700048  (60.0%)\n",
      "# Analysing frames from 3699968 to 3800048  (61.7%)\n",
      "# Analysing frames from 3799968 to 3900048  (63.3%)\n",
      "# Analysing frames from 3899968 to 4000048  (65.0%)\n",
      "# Analysing frames from 3999968 to 4100048  (66.7%)\n",
      "# Analysing frames from 4099968 to 4200048  (68.3%)\n",
      "# Analysing frames from 4199968 to 4300048  (70.0%)\n",
      "# Analysing frames from 4299968 to 4400048  (71.7%)\n",
      "# Analysing frames from 4399968 to 4500048  (73.3%)\n",
      "# Analysing frames from 4499968 to 4600048  (75.0%)\n",
      "# Analysing frames from 4599968 to 4700048  (76.7%)\n",
      "# Analysing frames from 4699968 to 4800048  (78.3%)\n",
      "# Analysing frames from 4799968 to 4900048  (80.0%)\n",
      "# Analysing frames from 4899968 to 5000048  (81.7%)\n",
      "# Analysing frames from 4999968 to 5100048  (83.3%)\n",
      "# Analysing frames from 5099968 to 5200048  (85.0%)\n",
      "# Analysing frames from 5199968 to 5300048  (86.7%)\n",
      "# Analysing frames from 5299968 to 5400048  (88.3%)\n",
      "# Analysing frames from 5399968 to 5500048  (90.0%)\n",
      "# Analysing frames from 5499968 to 5600048  (91.7%)\n",
      "# Analysing frames from 5599968 to 5700048  (93.3%)\n",
      "# Analysing frames from 5699968 to 5800048  (95.0%)\n",
      "# Analysing frames from 5799968 to 5900048  (96.7%)\n",
      "# Analysing frames from 5899968 to 6000000  (98.3%)\n",
      "# Detection completed, time taken: 0:02:56.538890\n",
      "# Time per frame: 0:00:00.029423\n",
      "# Time per sample: 0:00:00.000117\n",
      "Loaded 486501 spikes.\n",
      "Fitting dimensionality reduction using all spikes...\n",
      "...projecting...\n",
      "...done\n",
      "Clustering...\n",
      "Clustering 486501 spikes...\n",
      "number of seeds: 16765\n",
      "seeds/job: 1398\n",
      "using 12 cpus\n"
     ]
    },
    {
     "name": "stderr",
     "output_type": "stream",
     "text": [
      "[Parallel(n_jobs=12)]: Using backend LokyBackend with 12 concurrent workers.\n",
      "[Parallel(n_jobs=12)]: Done   3 out of  12 | elapsed:   30.8s remaining:  1.5min\n",
      "[Parallel(n_jobs=12)]: Done  10 out of  12 | elapsed:   33.3s remaining:    6.7s\n",
      "[Parallel(n_jobs=12)]: Done  12 out of  12 | elapsed:   33.6s finished\n"
     ]
    },
    {
     "name": "stdout",
     "output_type": "stream",
     "text": [
      "Number of estimated units: 1684\n",
      "Saving to /media/samuel/dataspikesorting/DataSpikeSortingHD2/Pierre/zenodo/study_gt252/sorter_folders/20160415_patch2/herdingspikes/HS2_sorted.hdf5\n",
      "WARNING! The recording contains group. In order to spike sort by 'group' use grouping_property='group' as argument.\n",
      "RUNNING SHELL SCRIPT: /tmp/tmp_shellscript09fbnvnt/script.sh\n"
     ]
    },
    {
     "name": "stderr",
     "output_type": "stream",
     "text": [
      "/usr/lib/python3.6/subprocess.py:786: ResourceWarning: subprocess 27949 is still running\n",
      "  ResourceWarning, source=self)\n"
     ]
    },
    {
     "name": "stdout",
     "output_type": "stream",
     "text": [
      "WARNING! The recording contains group. In order to spike sort by 'group' use grouping_property='group' as argument.\n",
      "RUNNING SHELL SCRIPT: /tmp/tmp_shellscriptcdk1ufup/script.sh\n",
      "WARNING! The recording contains group. In order to spike sort by 'group' use grouping_property='group' as argument.\n"
     ]
    }
   ],
   "source": [
    "study = GroundTruthStudy(study_folder)\n",
    "\n",
    "study.run_sorters(sorter_list, mode='keep', verbose=False)"
   ]
  },
  {
   "cell_type": "markdown",
   "metadata": {},
   "source": [
    "## Run comparison with ground truth and retreive result tables"
   ]
  },
  {
   "cell_type": "code",
   "execution_count": null,
   "metadata": {},
   "outputs": [],
   "source": [
    "# this copy sorting is necessary to copy results from sorter\n",
    "# into a centralize folder with all results\n",
    "study.copy_sortings()\n",
    "\n",
    "# this run all comparison sto GT\n",
    "study.run_comparisons(exhaustive_gt=False, match_score=0.1, overmerged_score=0.2)"
   ]
  },
  {
   "cell_type": "code",
   "execution_count": null,
   "metadata": {},
   "outputs": [],
   "source": [
    "# this retrieve results\n",
    "comparisons = study.comparisons\n",
    "dataframes = study.aggregate_dataframes()"
   ]
  },
  {
   "cell_type": "code",
   "execution_count": null,
   "metadata": {},
   "outputs": [],
   "source": [
    "## Run times"
   ]
  },
  {
   "cell_type": "code",
   "execution_count": null,
   "metadata": {},
   "outputs": [],
   "source": [
    "dataframes['run_times']"
   ]
  },
  {
   "cell_type": "code",
   "execution_count": null,
   "metadata": {},
   "outputs": [],
   "source": [
    "fig, ax = plt.subplots()\n",
    "sns.barplot(data=dataframes['run_times'], x='sorter_name', y='run_time', ax=ax, order=sorter_list)\n",
    "\n",
    "sns.set_palette(sns.color_palette(\"Set1\"))\n",
    "ax.set_yscale('log')\n",
    "ax.set_ylabel('Run time (s)');\n",
    "ax.set_xlabel(None);\n",
    "ax.set_xticklabels(sorter_list, rotation=40, ha='right');"
   ]
  },
  {
   "cell_type": "markdown",
   "metadata": {},
   "source": [
    "## accuracy/precision/recall scores per sorters"
   ]
  },
  {
   "cell_type": "code",
   "execution_count": null,
   "metadata": {},
   "outputs": [],
   "source": [
    "fig, ax = plt.subplots(figsize=(12,4))\n",
    "fig.tight_layout()\n",
    "\n",
    "sns.set_palette(sns.color_palette(\"Set1\"))\n",
    "\n",
    "df = pd.melt(dataframes['perf_by_units'], id_vars='sorter_name', var_name='metric', value_name='score', \n",
    "        value_vars=('accuracy','precision', 'recall'))\n",
    "# df.assign(Generation=df.metric.map({'metric':'Metric','accuracy': 'Accuracy', 'precision': 'Precision', 'recall': 'Recall'}))\n",
    "p = sns.catplot(data=df, x='sorter_name', y='score', hue='metric', kind='swarm', dodge=True, ax=ax, \n",
    "                order=sorter_list, legend_out=True, s=4)\n",
    "plt.close(p.fig)\n",
    "ax.legend(['Accuracy', 'Precision', 'Recall'], labelspacing=0.2,\n",
    "          bbox_to_anchor=(1, 0.5), loc=2, borderaxespad=0., frameon=False)\n",
    "ax.set_xticklabels(sorter_list, rotation=30, ha='center')\n",
    "ax.set_xlabel(None);\n",
    "ax.set_ylabel('Score');\n",
    "clear_axes(ax)"
   ]
  },
  {
   "cell_type": "code",
   "execution_count": null,
   "metadata": {},
   "outputs": [],
   "source": [
    "sns.set_palette(sns.color_palette(\"deep\"))\n",
    "g = sns.relplot(data=dataframes['perf_by_units'], x='precision', y='recall', col='sorter_name', \n",
    "                col_wrap=3, col_order=sorter_list, s=60)"
   ]
  },
  {
   "cell_type": "code",
   "execution_count": null,
   "metadata": {},
   "outputs": [],
   "source": [
    "## Accuracy vns SNR"
   ]
  },
  {
   "cell_type": "code",
   "execution_count": null,
   "metadata": {},
   "outputs": [],
   "source": [
    "df = dataframes['perf_by_units']\n",
    "\n",
    "\n",
    "# add snr to the by-unit table\n",
    "df['snr'] = None\n",
    "for gt_id in snr.index:\n",
    "    df['snr'].loc[df['gt_unit_id']==gt_id] = snr.at[gt_id, 'snr']\n",
    "df\n",
    "\n",
    "\n",
    "\n",
    "sns.set_palette(sns.color_palette(\"deep\"))\n",
    "g = sns.relplot(data=dataframes['perf_by_units'], x='snr', y='accuracy', col='sorter_name', \n",
    "                col_wrap=3, col_order=sorter_list, s=60)\n",
    "for i,ax in enumerate(g.axes):\n",
    "    ax.set_title(sorter_list[i])\n",
    "    ax.set_xlabel('')\n",
    "\n",
    "    g.axes[0].set_xlabel('SNR');\n",
    "\n",
    "g.axes[0].set_ylabel('Accuracy');"
   ]
  }
 ],
 "metadata": {
  "kernelspec": {
   "display_name": "Python 3",
   "language": "python",
   "name": "python3"
  },
  "language_info": {
   "codemirror_mode": {
    "name": "ipython",
    "version": 3
   },
   "file_extension": ".py",
   "mimetype": "text/x-python",
   "name": "python",
   "nbconvert_exporter": "python",
   "pygments_lexer": "ipython3",
   "version": "3.6.8"
  },
  "nikola": {
   "category": "",
   "date": "2020-01-30 14:58:43 UTC+01:00",
   "description": "",
   "link": "",
   "slug": "spampinato-mice-retina-mea252ch-pair-recording-part2",
   "tags": "",
   "title": "Spampinato mice retina mea252ch pair recording - part2",
   "type": "text"
  }
 },
 "nbformat": 4,
 "nbformat_minor": 2
}
