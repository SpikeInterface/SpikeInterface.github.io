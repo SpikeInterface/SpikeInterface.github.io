{
 "cells": [
  {
   "cell_type": "markdown",
   "metadata": {},
   "source": [
    "# Sorter comparison with paired (neuropixel - patch) recordings\n",
    "\n",
    "Author : Samuel Garcia\n",
    "\n",
    "\n",
    "**André Marques-Smith** make an open dataset with simultaneous patch-clamp and neuropixel probe extracellular recordings from the same cortical neuron in anaesthetized rats.\n",
    "\n",
    "This is very very usefull to test spike sorting engine.\n",
    "\n",
    "\n",
    "The original contain 42 recordings.\n",
    "\n",
    "Here we select only a subset of 6 files.\n",
    "I keep only when the SNR in the extra cellular trace is big enough to be detected.\n",
    "One file (c24) was remove because the juxta cellular itself is ambiguous.\n",
    "\n",
    "The patch recording will be the \"Groud Truth\".\n",
    "And the neuropixel with 384ch will computed by 5 sorters to compare results.\n",
    "\n",
    "Please have a look to the paper:\n",
    "\n",
    "https://www.biorxiv.org/content/10.1101/370080v2\n",
    "\n",
    "The repo the explain everything\n",
    "\n",
    "https://github.com/kampff-lab/sc.io/tree/master/Paired%20Recordings\n",
    "\n",
    "Data set availaible here :\n",
    "\n",
    "http://crcns.org/data-sets/methods/spe-1\n",
    "\n",
    "or here\n",
    "\n",
    "https://drive.google.com/drive/folders/13GCOuWN4QMW6vQmlNIolUrxPy-4Wv1BC\n",
    "\n",
    "Note :\n",
    "  * I will note use the spiek indexes provide by André because for some files small errors on double peak detection     can occurs.\n",
    "  * This results is also on spike forest\n",
    "    [here]( http://spikeforest.flatironinstitute.org/studyresults/paired_kampff)\n",
    "    but the spikeforest keep only 32 channels to reduce the computation.\n",
    "    Here the computation is done on 384 channels. Lets see if we have the same results.\n",
    "  \n",
    "  \n",
    "  \n"
   ]
  },
  {
   "cell_type": "code",
   "execution_count": 7,
   "metadata": {},
   "outputs": [],
   "source": [
    "# import everything\n",
    "import os, getpass\n",
    "\n",
    "kilosort2_path = '/home/samuel/Documents/Spikeinterface/Kilosort2'\n",
    "os.environ[\"KILOSORT2_PATH\"] = kilosort2_path\n",
    "\n",
    "kilosort_path = '/home/samuel/Documents/Spikeinterface/KiloSort/'\n",
    "os.environ[\"KILOSORT_PATH\"] = kilosort_path\n",
    "\n",
    "ironclust_path = '/home/samuel/Documents/Spikeinterface/ironclust'\n",
    "os.environ[\"IRONCLUST_PATH\"] = ironclust_path\n",
    "\n",
    "from pathlib import Path\n",
    "import scipy.signal\n",
    "import scipy.io\n",
    "\n",
    "import numpy as np\n",
    "import pandas as pd\n",
    "import matplotlib.pyplot as plt\n",
    "import seaborn as sns\n",
    "from pathlib import Path\n",
    "\n",
    "\n",
    "import spikeinterface as si\n",
    "import spikeinterface.extractors as se\n",
    "import spikeinterface.sorters as ss\n",
    "import spikeinterface.widgets as sw\n",
    "\n",
    "from spikeinterface.comparison import GroundTruthStudy"
   ]
  },
  {
   "cell_type": "code",
   "execution_count": 2,
   "metadata": {},
   "outputs": [
    {
     "name": "stdout",
     "output_type": "stream",
     "text": [
      "spikeinterface: 0.9.9\n",
      "  * spikeextractor: 0.8.4\n",
      "  * spiketoolkit: 0.6.3\n",
      "  * spikesorters: 0.3.3\n",
      "  * spikecomparison: 0.2.6\n",
      "  * spikewidgets: 0.4.3\n",
      "\n",
      "herdingspikes: 0.3.7+git.45665a2b6438\n",
      "ironclust: 5.9.8\n",
      "kilosort: git-cd040da1963d\n",
      "kilosort2: git-e243c934339e\n",
      "spykingcircus: 0.9.7\n",
      "tridesclous: 1.6.1.dev\n"
     ]
    }
   ],
   "source": [
    "si.print_spikeinterface_version()\n",
    "ss.print_sorter_versions()"
   ]
  },
  {
   "cell_type": "markdown",
   "metadata": {},
   "source": [
    "## path and list"
   ]
  },
  {
   "cell_type": "code",
   "execution_count": 4,
   "metadata": {},
   "outputs": [],
   "source": [
    "p = '/media/samuel/dataspikesorting/DataSpikeSortingHD2/andre_paired_neuropixel/'\n",
    "p = Path(p)\n",
    "\n",
    "recordings_folder = p / 'recordings'\n",
    "study_folder = p / 'study_paired_neuropixel'\n",
    "\n",
    "\n",
    "rec_names = [\n",
    "    'c14',\n",
    "    'c26', \n",
    "    'c28', \n",
    "    'c37',\n",
    "    'c45', \n",
    "    'c46'\n",
    "]"
   ]
  },
  {
   "cell_type": "markdown",
   "metadata": {},
   "source": [
    "## function to detect peak from patch recording\n",
    "\n",
    "File provide by André contains small errors in peak detection. Here we computed then again."
   ]
  },
  {
   "cell_type": "code",
   "execution_count": 6,
   "metadata": {},
   "outputs": [],
   "source": [
    "def detect_peak_on_patch_sig(patch_sig, sample_rate):\n",
    "    # filter because some traces have drift\n",
    "    sos = scipy.signal.iirfilter(5, 200./sample_rate*2, analog=False, btype = 'highpass', ftype = 'butter', output = 'sos')\n",
    "    patch_sig_f = scipy.signal.sosfiltfilt(sos, patch_sig, axis=0)\n",
    "    \n",
    "    med = np.median(patch_sig_f)\n",
    "    mad = np.median(np.abs(patch_sig_f-med))*1.4826\n",
    "    thresh = med - 12 * mad\n",
    "    \n",
    "    # 1 ms aounrd peak\n",
    "    d = int(sample_rate * 0.001)\n",
    "    spike_indexes, prop = scipy.signal.find_peaks(-patch_sig_f, height=-thresh, distance=d)\n",
    "\n",
    "    #~ fig, ax = plt.subplots()\n",
    "    #~ ax.plot(patch_sig_f)\n",
    "    #~ ax.axhline(thresh)\n",
    "    #~ ax.plot(spike_indexes, patch_sig_f[spike_indexes], ls='None', marker='o')\n",
    "    #~ plt.show()\n",
    "    \n",
    "    return spike_indexes"
   ]
  },
  {
   "cell_type": "code",
   "execution_count": null,
   "metadata": {},
   "outputs": [],
   "source": [
    "## create the study"
   ]
  },
  {
   "cell_type": "code",
   "execution_count": null,
   "metadata": {},
   "outputs": [],
   "source": [
    "\n",
    "# the file chanMap.mat contain the geometry\n",
    "d = scipy.io.loadmat(str(p / 'chanMap.mat'))\n",
    "locations = np.zeros((384, 2))\n",
    "locations[:, 0] = d['xcoords'][:, 0]\n",
    "locations[:, 1] = d['ycoords'][:, 0]\n",
    "\n",
    "#~ fig, ax = plt.subplots()\n",
    "#~ ax.scatter(locations[:, 0], locations[:, 1])\n",
    "#~ plt.show()\n",
    "\n",
    "\n",
    "gt_dict = {}\n",
    "for rec_name in rec_names:\n",
    "    print(rec_name)\n",
    "    sample_rate = 30000.\n",
    "\n",
    "    # neuropixel sigs\n",
    "    raw_bin_filename = recordings_folder /  rec_name / (rec_name + '_npx_raw.bin')\n",
    "    mea_sigs = np.memmap(raw_bin_filename, dtype='int16', mode='r').reshape(-1, 384)\n",
    "\n",
    "    # patch recoring\n",
    "    filename = recordings_folder /  rec_name / (rec_name + '_patch_ch1.bin')\n",
    "    #~ patch_sig = np.memmap(str(filename), dtype='float64', mode='r')\n",
    "    patch_sig = np.fromfile(str(filename), dtype='float64')\n",
    "    \n",
    "    # spike index inn the patch clock refrence\n",
    "    sr = 50023. #  this is not theexact freq but it do not matter here\n",
    "    gt_spike_indexes_patch = detect_peak_on_patch_sig(patch_sig, sr)\n",
    "\n",
    "    # this is time factor strech between the 2 recordings (neuropixel and patch)\n",
    "    time_factor = mea_sigs.shape[0] / patch_sig.shape[0]\n",
    "    print('time_factor', time_factor)\n",
    "    \n",
    "    # spike index in the neuropixel clock refrence\n",
    "    gt_spike_indexes = (gt_spike_indexes_patch * time_factor).astype('int64')\n",
    "\n",
    "\n",
    "    # recording\n",
    "    rec = se.BinDatRecordingExtractor(raw_bin_filename, sample_rate, 384, 'int16', offset=0, time_axis=0)\n",
    "    rec.set_channel_locations(locations)\n",
    "\n",
    "    # gt sorting\n",
    "    sorting_gt = se.NumpySortingExtractor()\n",
    "    sorting_gt.set_times_labels(gt_spike_indexes, np.zeros(gt_spike_indexes.size, dtype='int64'))\n",
    "    sorting_gt.set_sampling_frequency(sample_rate)\n",
    "\n",
    "    gt_dict[rec_name] = (rec, sorting_gt)\n",
    "\n",
    "\n",
    "study = GroundTruthStudy.create(study_folder, gt_dict)"
   ]
  },
  {
   "cell_type": "markdown",
   "metadata": {},
   "source": [
    "## Get signal to noise ratio for all units"
   ]
  },
  {
   "cell_type": "code",
   "execution_count": null,
   "metadata": {},
   "outputs": [],
   "source": [
    "study = GroundTruthStudy(study_folder)\n",
    "snr = study.concat_all_snr()\n",
    "snr"
   ]
  },
  {
   "cell_type": "code",
   "execution_count": null,
   "metadata": {},
   "outputs": [],
   "source": [
    "fig, ax = plt.subplots()\n",
    "ax.hist(snr['snr'].values, bins=np.arange(0, 40, 5))\n",
    "ax.set_xlabel('GT units SNR')"
   ]
  },
  {
   "cell_type": "markdown",
   "metadata": {},
   "source": [
    "## Run all sorters"
   ]
  },
  {
   "cell_type": "code",
   "execution_count": 9,
   "metadata": {},
   "outputs": [],
   "source": [
    "sorter_list = ['herdingspikes', 'ironclust', 'kilosort2',  \n",
    "                'spykingcircus', 'tridesclous']"
   ]
  },
  {
   "cell_type": "code",
   "execution_count": null,
   "metadata": {},
   "outputs": [],
   "source": [
    "study = GroundTruthStudy(study_folder)\n",
    "\n",
    "study.run_sorters(sorter_list, mode='keep', verbose=False)"
   ]
  },
  {
   "cell_type": "markdown",
   "metadata": {},
   "source": [
    "## Run comparison with ground truth and retreive result tables"
   ]
  },
  {
   "cell_type": "code",
   "execution_count": null,
   "metadata": {},
   "outputs": [],
   "source": [
    "study = GroundTruthStudy(study_folder)"
   ]
  },
  {
   "cell_type": "code",
   "execution_count": null,
   "metadata": {},
   "outputs": [],
   "source": [
    "# this copy sorting is necessary to copy results from sorter\n",
    "# into a centralize folder with all results\n",
    "study.copy_sortings()\n"
   ]
  },
  {
   "cell_type": "code",
   "execution_count": null,
   "metadata": {},
   "outputs": [],
   "source": [
    "# this run all comparison to GT\n",
    "# exhaustive_gt=False because it is a pair recording so only one GT units\n",
    "study.run_comparisons(exhaustive_gt=False, match_score=0.1, overmerged_score=0.2)"
   ]
  },
  {
   "cell_type": "code",
   "execution_count": null,
   "metadata": {},
   "outputs": [],
   "source": [
    "# this retrieve results\n",
    "comparisons = study.comparisons\n",
    "dataframes = study.aggregate_dataframes()"
   ]
  },
  {
   "cell_type": "markdown",
   "metadata": {},
   "source": [
    "## Run times"
   ]
  },
  {
   "cell_type": "code",
   "execution_count": null,
   "metadata": {},
   "outputs": [],
   "source": [
    "dataframes['run_times'].set_index(['rec_name', 'sorter_name']).unstack('sorter_name')"
   ]
  },
  {
   "cell_type": "code",
   "execution_count": null,
   "metadata": {},
   "outputs": [],
   "source": [
    "sns.set_palette(sns.color_palette(\"Set1\"))\n",
    "\n",
    "#fig, ax = plt.subplots()\n",
    "g = sns.catplot(data=dataframes['run_times'], x='sorter_name', y='run_time',\n",
    "                hue=\"rec_name\",\n",
    "                order=sorter_list,\n",
    "                kind='bar',\n",
    "               legend=False)\n",
    "g.fig.set_size_inches(12,5)\n",
    "\n",
    "#ax.set_yscale('log')\n",
    "#ax.set_ylabel('Run time (s)');\n",
    "#ax.set_xlabel(None);\n",
    "fig.axes[0].set_xticklabels(sorter_list, rotation=40, ha='right');"
   ]
  },
  {
   "cell_type": "markdown",
   "metadata": {},
   "source": [
    "## accuracy/precision/recall scores per sorters"
   ]
  },
  {
   "cell_type": "code",
   "execution_count": null,
   "metadata": {},
   "outputs": [],
   "source": [
    "sns.set_palette(sns.color_palette(\"Set1\"))\n",
    "\n",
    "df = pd.melt(dataframes['perf_by_units'], id_vars=['rec_name', 'sorter_name'],\n",
    "            var_name='metric', value_name='score', \n",
    "            value_vars=('accuracy','precision', 'recall'))\n",
    "display(df)\n",
    "\n",
    "# df.assign(Generation=df.metric.map({'metric':'Metric','accuracy': 'Accuracy', 'precision': 'Precision', 'recall': 'Recall'}))\n",
    "g = sns.catplot(data=df, x='sorter_name', y='score', hue='metric', kind='swarm', dodge=True, # ax=ax, \n",
    "                order=sorter_list, legend_out=True, s=4)\n",
    "g.fig.set_size_inches(12,5)"
   ]
  },
  {
   "cell_type": "code",
   "execution_count": null,
   "metadata": {},
   "outputs": [],
   "source": [
    "sns.set_palette(sns.color_palette(\"deep\"))\n",
    "g = sns.relplot(data=dataframes['perf_by_units'], x='precision', y='recall', col='sorter_name', \n",
    "                col_wrap=3, col_order=sorter_list, s=60)"
   ]
  },
  {
   "cell_type": "markdown",
   "metadata": {},
   "source": [
    "## Accuracy vns SNR"
   ]
  },
  {
   "cell_type": "code",
   "execution_count": null,
   "metadata": {},
   "outputs": [],
   "source": [
    "df = dataframes['perf_by_units']\n",
    "df"
   ]
  },
  {
   "cell_type": "code",
   "execution_count": null,
   "metadata": {},
   "outputs": [],
   "source": [
    "df = dataframes['perf_by_units']\n",
    "\n",
    "# add snr to the by-unit table\n",
    "df['snr'] = None\n",
    "for rec_name, gt_id in snr.index:\n",
    "    df['snr'].loc[(df['gt_unit_id']==gt_id) & (df['rec_name']==rec_name)] = snr.at[(rec_name, gt_id), 'snr']\n",
    "\n",
    "sns.set_palette(sns.color_palette(\"deep\"))\n",
    "g = sns.relplot(data=df, x='snr', y='accuracy', col='sorter_name',\n",
    "        col_wrap=3, col_order=sorter_list, s=80)"
   ]
  }
 ],
 "metadata": {
  "kernelspec": {
   "display_name": "Python 3",
   "language": "python",
   "name": "python3"
  },
  "language_info": {
   "codemirror_mode": {
    "name": "ipython",
    "version": 3
   },
   "file_extension": ".py",
   "mimetype": "text/x-python",
   "name": "python",
   "nbconvert_exporter": "python",
   "pygments_lexer": "ipython3",
   "version": "3.7.3"
  },
  "nikola": {
   "category": "",
   "date": "2020-05-23 17:40:13 UTC+02:00",
   "description": "",
   "link": "",
   "slug": "marques-smith-neuropixel-384ch-paired-recording",
   "tags": "",
   "title": "Marques-Smith neuropixel 384ch paired recording",
   "type": "text"
  }
 },
 "nbformat": 4,
 "nbformat_minor": 4
}
