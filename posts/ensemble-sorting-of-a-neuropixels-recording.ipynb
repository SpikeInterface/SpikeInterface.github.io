{
 "cells": [
  {
   "cell_type": "markdown",
   "metadata": {},
   "source": [
    "Write your post here."
   ]
  }
 ],
 "metadata": {
  "kernelspec": {
   "display_name": "Python 3",
   "env": {},
   "interrupt_mode": "signal",
   "language": "python",
   "metadata": {},
   "name": "python3"
  },
  "nikola": {
   "category": "",
   "date": "2020-08-23 17:29:46 UTC+02:00",
   "description": "",
   "link": "",
   "slug": "ensemble-sorting-of-a-neuropixels-recording",
   "tags": "",
   "title": "Ensemble sorting of a Neuropixels recording",
   "type": "text"
  }
 },
 "nbformat": 4,
 "nbformat_minor": 4
}
