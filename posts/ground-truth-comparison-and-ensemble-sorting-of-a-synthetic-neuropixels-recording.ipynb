{
 "cells": [
  {
   "cell_type": "markdown",
   "metadata": {},
   "source": [
    "Write your post here."
   ]
  }
 ],
 "metadata": {
  "kernelspec": {
   "display_name": "Python 3",
   "env": {},
   "interrupt_mode": "signal",
   "language": "python",
   "metadata": {},
   "name": "python3"
  },
  "nikola": {
   "category": "",
   "date": "2020-08-23 17:30:03 UTC+02:00",
   "description": "",
   "link": "",
   "slug": "ground-truth-comparison-and-ensemble-sorting-of-a-synthetic-neuropixels-recording",
   "tags": "",
   "title": "Ground truth comparison and ensemble sorting of a synthetic Neuropixels recording",
   "type": "text"
  }
 },
 "nbformat": 4,
 "nbformat_minor": 4
}
