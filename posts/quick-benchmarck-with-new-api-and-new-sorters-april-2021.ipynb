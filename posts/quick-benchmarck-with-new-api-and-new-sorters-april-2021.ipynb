{
 "cells": [
  {
   "cell_type": "markdown",
   "metadata": {},
   "source": [
    "# Quick benchmark with new spikeinetrface API with new sorters\n",
    "\n",
    "In spring 2021 the spikeinterface is refactored deeply.\n",
    "\n",
    "During this refactoring some sorters have been added.\n",
    "\n",
    "Here quick benchmark with one simulated dataset with MEArec.\n"
   ]
  },
  {
   "cell_type": "code",
   "execution_count": 1,
   "metadata": {},
   "outputs": [
    {
     "name": "stderr",
     "output_type": "stream",
     "text": [
      "/home/samuel/.virtualenvs/py38/lib/python3.8/site-packages/yass/config/config.py:11: DeprecationWarning: Using or importing the ABCs from 'collections' instead of from 'collections.abc' is deprecated since Python 3.3, and in 3.9 it will stop working\n",
      "  from collections import Mapping, MutableSequence\n"
     ]
    }
   ],
   "source": [
    "from pathlib import Path\n",
    "import os\n",
    "import shutil\n",
    "from pprint import pprint\n",
    "import getpass\n",
    "\n",
    "\n",
    "import numpy as np\n",
    "import matplotlib.pyplot as plt\n",
    "\n",
    "import MEArec as mr\n",
    "import neo\n",
    "import quantities as pq\n",
    "\n",
    "\n",
    "import spikeinterface.extractors  as se\n",
    "import spikeinterface.widgets  as sw\n",
    "import spikeinterface.sorters  as ss\n",
    "\n",
    "from spikeinterface.comparison import GroundTruthStudy"
   ]
  },
  {
   "cell_type": "code",
   "execution_count": null,
   "metadata": {},
   "outputs": [],
   "source": [
    "basedir = '/mnt/data/sam/DataSpikeSorting/'\n",
    "\n",
    "basedir = Path(basedir)\n",
    "\n",
    "workdir = basedir / 'mearec_bench_2021'\n",
    "\n",
    "study_folder = workdir /'study_mearec_march_2021'\n",
    "\n",
    "tmp_folder = workdir / 'tmp'\n",
    "tmp_folder.mkdir(parents=True, exist_ok=True)"
   ]
  }
 ],
 "metadata": {
  "kernelspec": {
   "display_name": "Python 3",
   "language": "python",
   "name": "python3"
  },
  "language_info": {
   "codemirror_mode": {
    "name": "ipython",
    "version": 3
   },
   "file_extension": ".py",
   "mimetype": "text/x-python",
   "name": "python",
   "nbconvert_exporter": "python",
   "pygments_lexer": "ipython3",
   "version": "3.8.5"
  },
  "nikola": {
   "category": "",
   "date": "2021-04-02 17:30:18 UTC+02:00",
   "description": "",
   "link": "",
   "slug": "quick-benchmarck-with-new-api-and-new-sorters-april-2021",
   "tags": "",
   "title": "Quick benchmarck with new API and new sorters (april 2021)",
   "type": "text"
  }
 },
 "nbformat": 4,
 "nbformat_minor": 4
}
